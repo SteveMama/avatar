{
  "nbformat": 4,
  "nbformat_minor": 0,
  "metadata": {
    "colab": {
      "name": "Avatarify-demo",
      "provenance": [],
      "collapsed_sections": [],
      "include_colab_link": true
    },
    "kernelspec": {
      "name": "python3",
      "display_name": "Python 3"
    },
    "accelerator": "GPU"
  },
  "cells": [
    {
      "cell_type": "markdown",
      "metadata": {
        "id": "view-in-github",
        "colab_type": "text"
      },
      "source": [
        "<a href=\"https://colab.research.google.com/github/SteveMama/avatar/blob/master/Avatarify_demo.ipynb\" target=\"_parent\"><img src=\"https://colab.research.google.com/assets/colab-badge.svg\" alt=\"Open In Colab\"/></a>"
      ]
    },
    {
      "cell_type": "markdown",
      "metadata": {
        "id": "g611R-VcPtuk",
        "colab_type": "text"
      },
      "source": [
        "##Pre-requisites needed\n",
        "\n",
        "\n",
        "1.   Go to: https://dashboard.ngrok.com/login\n",
        "2.   Signup and copy the authtoken to the clipboard\n",
        "3.   if using windows, install conda and the github link\n",
        "https://github.com/SteveMama/avatar.git\n",
        "4.   Open anaconda prompt and move into the avatar-master or avatar directory\n",
        "\n"
      ]
    },
    {
      "cell_type": "markdown",
      "metadata": {
        "id": "NMSrlj7NQ2sS",
        "colab_type": "text"
      },
      "source": [
        "### Now lets dive into colab "
      ]
    },
    {
      "cell_type": "markdown",
      "metadata": {
        "id": "9fYm9X3X125H",
        "colab_type": "text"
      },
      "source": [
        "### Avatarify\n",
        "Follow the steps below to clone Avatarify and install the dependencies."
      ]
    },
    {
      "cell_type": "code",
      "metadata": {
        "id": "LC1q-hdat-JP",
        "colab_type": "code",
        "colab": {}
      },
      "source": [
        "!cd /content\n",
        "!rm -rf *"
      ],
      "execution_count": 2,
      "outputs": []
    },
    {
      "cell_type": "code",
      "metadata": {
        "id": "kE4_YSbsiX_O",
        "colab_type": "code",
        "colab": {
          "base_uri": "https://localhost:8080/",
          "height": 134
        },
        "outputId": "146e25ad-c281-4bef-9ea1-cc5f42ae4626"
      },
      "source": [
        "!git clone https://github.com/SteveMama/avatar.git"
      ],
      "execution_count": 3,
      "outputs": [
        {
          "output_type": "stream",
          "text": [
            "Cloning into 'avatar'...\n",
            "remote: Enumerating objects: 1275, done.\u001b[K\n",
            "remote: Counting objects:   0% (1/1275)\u001b[K\rremote: Counting objects:   1% (13/1275)\u001b[K\rremote: Counting objects:   2% (26/1275)\u001b[K\rremote: Counting objects:   3% (39/1275)\u001b[K\rremote: Counting objects:   4% (51/1275)\u001b[K\rremote: Counting objects:   5% (64/1275)\u001b[K\rremote: Counting objects:   6% (77/1275)\u001b[K\rremote: Counting objects:   7% (90/1275)\u001b[K\rremote: Counting objects:   8% (102/1275)\u001b[K\rremote: Counting objects:   9% (115/1275)\u001b[K\rremote: Counting objects:  10% (128/1275)\u001b[K\rremote: Counting objects:  11% (141/1275)\u001b[K\rremote: Counting objects:  12% (153/1275)\u001b[K\rremote: Counting objects:  13% (166/1275)\u001b[K\rremote: Counting objects:  14% (179/1275)\u001b[K\rremote: Counting objects:  15% (192/1275)\u001b[K\rremote: Counting objects:  16% (204/1275)\u001b[K\rremote: Counting objects:  17% (217/1275)\u001b[K\rremote: Counting objects:  18% (230/1275)\u001b[K\rremote: Counting objects:  19% (243/1275)\u001b[K\rremote: Counting objects:  20% (255/1275)\u001b[K\rremote: Counting objects:  21% (268/1275)\u001b[K\rremote: Counting objects:  22% (281/1275)\u001b[K\rremote: Counting objects:  23% (294/1275)\u001b[K\rremote: Counting objects:  24% (306/1275)\u001b[K\rremote: Counting objects:  25% (319/1275)\u001b[K\rremote: Counting objects:  26% (332/1275)\u001b[K\rremote: Counting objects:  27% (345/1275)\u001b[K\rremote: Counting objects:  28% (357/1275)\u001b[K\rremote: Counting objects:  29% (370/1275)\u001b[K\rremote: Counting objects:  30% (383/1275)\u001b[K\rremote: Counting objects:  31% (396/1275)\u001b[K\rremote: Counting objects:  32% (408/1275)\u001b[K\rremote: Counting objects:  33% (421/1275)\u001b[K\rremote: Counting objects:  34% (434/1275)\u001b[K\rremote: Counting objects:  35% (447/1275)\u001b[K\rremote: Counting objects:  36% (459/1275)\u001b[K\rremote: Counting objects:  37% (472/1275)\u001b[K\rremote: Counting objects:  38% (485/1275)\u001b[K\rremote: Counting objects:  39% (498/1275)\u001b[K\rremote: Counting objects:  40% (510/1275)\u001b[K\rremote: Counting objects:  41% (523/1275)\u001b[K\rremote: Counting objects:  42% (536/1275)\u001b[K\rremote: Counting objects:  43% (549/1275)\u001b[K\rremote: Counting objects:  44% (561/1275)\u001b[K\rremote: Counting objects:  45% (574/1275)\u001b[K\rremote: Counting objects:  46% (587/1275)\u001b[K\rremote: Counting objects:  47% (600/1275)\u001b[K\rremote: Counting objects:  48% (612/1275)\u001b[K\rremote: Counting objects:  49% (625/1275)\u001b[K\rremote: Counting objects:  50% (638/1275)\u001b[K\rremote: Counting objects:  51% (651/1275)\u001b[K\rremote: Counting objects:  52% (663/1275)\u001b[K\rremote: Counting objects:  53% (676/1275)\u001b[K\rremote: Counting objects:  54% (689/1275)\u001b[K\rremote: Counting objects:  55% (702/1275)\u001b[K\rremote: Counting objects:  56% (714/1275)\u001b[K\rremote: Counting objects:  57% (727/1275)\u001b[K\rremote: Counting objects:  58% (740/1275)\u001b[K\rremote: Counting objects:  59% (753/1275)\u001b[K\rremote: Counting objects:  60% (765/1275)\u001b[K\rremote: Counting objects:  61% (778/1275)\u001b[K\rremote: Counting objects:  62% (791/1275)\u001b[K\rremote: Counting objects:  63% (804/1275)\u001b[K\rremote: Counting objects:  64% (816/1275)\u001b[K\rremote: Counting objects:  65% (829/1275)\u001b[K\rremote: Counting objects:  66% (842/1275)\u001b[K\rremote: Counting objects:  67% (855/1275)\u001b[K\rremote: Counting objects:  68% (867/1275)\u001b[K\rremote: Counting objects:  69% (880/1275)\u001b[K\rremote: Counting objects:  70% (893/1275)\u001b[K\rremote: Counting objects:  71% (906/1275)\u001b[K\rremote: Counting objects:  72% (918/1275)\u001b[K\rremote: Counting objects:  73% (931/1275)\u001b[K\rremote: Counting objects:  74% (944/1275)\u001b[K\rremote: Counting objects:  75% (957/1275)\u001b[K\rremote: Counting objects:  76% (969/1275)\u001b[K\rremote: Counting objects:  77% (982/1275)\u001b[K\rremote: Counting objects:  78% (995/1275)\u001b[K\rremote: Counting objects:  79% (1008/1275)\u001b[K\rremote: Counting objects:  80% (1020/1275)\u001b[K\rremote: Counting objects:  81% (1033/1275)\u001b[K\rremote: Counting objects:  82% (1046/1275)\u001b[K\rremote: Counting objects:  83% (1059/1275)\u001b[K\rremote: Counting objects:  84% (1071/1275)\u001b[K\rremote: Counting objects:  85% (1084/1275)\u001b[K\rremote: Counting objects:  86% (1097/1275)\u001b[K\rremote: Counting objects:  87% (1110/1275)\u001b[K\rremote: Counting objects:  88% (1122/1275)\u001b[K\rremote: Counting objects:  89% (1135/1275)\u001b[K\rremote: Counting objects:  90% (1148/1275)\u001b[K\rremote: Counting objects:  91% (1161/1275)\u001b[K\rremote: Counting objects:  92% (1173/1275)\u001b[K\rremote: Counting objects:  93% (1186/1275)\u001b[K\rremote: Counting objects:  94% (1199/1275)\u001b[K\rremote: Counting objects:  95% (1212/1275)\u001b[K\rremote: Counting objects:  96% (1224/1275)\u001b[K\rremote: Counting objects:  97% (1237/1275)\u001b[K\rremote: Counting objects:  98% (1250/1275)\u001b[K\rremote: Counting objects:  99% (1263/1275)\u001b[K\rremote: Counting objects: 100% (1275/1275)\u001b[K\rremote: Counting objects: 100% (1275/1275), done.\u001b[K\n",
            "remote: Compressing objects:   0% (1/414)\u001b[K\rremote: Compressing objects:   1% (5/414)\u001b[K\rremote: Compressing objects:   2% (9/414)\u001b[K\rremote: Compressing objects:   3% (13/414)\u001b[K\rremote: Compressing objects:   4% (17/414)\u001b[K\rremote: Compressing objects:   5% (21/414)\u001b[K\rremote: Compressing objects:   6% (25/414)\u001b[K\rremote: Compressing objects:   7% (29/414)\u001b[K\rremote: Compressing objects:   8% (34/414)\u001b[K\rremote: Compressing objects:   9% (38/414)\u001b[K\rremote: Compressing objects:  10% (42/414)\u001b[K\rremote: Compressing objects:  11% (46/414)\u001b[K\rremote: Compressing objects:  12% (50/414)\u001b[K\rremote: Compressing objects:  13% (54/414)\u001b[K\rremote: Compressing objects:  14% (58/414)\u001b[K\rremote: Compressing objects:  15% (63/414)\u001b[K\rremote: Compressing objects:  16% (67/414)\u001b[K\rremote: Compressing objects:  17% (71/414)\u001b[K\rremote: Compressing objects:  18% (75/414)\u001b[K\rremote: Compressing objects:  19% (79/414)\u001b[K\rremote: Compressing objects:  20% (83/414)\u001b[K\rremote: Compressing objects:  21% (87/414)\u001b[K\rremote: Compressing objects:  22% (92/414)\u001b[K\rremote: Compressing objects:  23% (96/414)\u001b[K\rremote: Compressing objects:  24% (100/414)\u001b[K\rremote: Compressing objects:  25% (104/414)\u001b[K\rremote: Compressing objects:  26% (108/414)\u001b[K\rremote: Compressing objects:  27% (112/414)\u001b[K\rremote: Compressing objects:  28% (116/414)\u001b[K\rremote: Compressing objects:  29% (121/414)\u001b[K\rremote: Compressing objects:  30% (125/414)\u001b[K\rremote: Compressing objects:  31% (129/414)\u001b[K\rremote: Compressing objects:  32% (133/414)\u001b[K\rremote: Compressing objects:  33% (137/414)\u001b[K\rremote: Compressing objects:  34% (141/414)\u001b[K\rremote: Compressing objects:  35% (145/414)\u001b[K\rremote: Compressing objects:  36% (150/414)\u001b[K\rremote: Compressing objects:  37% (154/414)\u001b[K\rremote: Compressing objects:  38% (158/414)\u001b[K\rremote: Compressing objects:  39% (162/414)\u001b[K\rremote: Compressing objects:  40% (166/414)\u001b[K\rremote: Compressing objects:  41% (170/414)\u001b[K\rremote: Compressing objects:  42% (174/414)\u001b[K\rremote: Compressing objects:  43% (179/414)\u001b[K\rremote: Compressing objects:  44% (183/414)\u001b[K\rremote: Compressing objects:  45% (187/414)\u001b[K\rremote: Compressing objects:  46% (191/414)\u001b[K\rremote: Compressing objects:  47% (195/414)\u001b[K\rremote: Compressing objects:  48% (199/414)\u001b[K\rremote: Compressing objects:  49% (203/414)\u001b[K\rremote: Compressing objects:  50% (207/414)\u001b[K\rremote: Compressing objects:  51% (212/414)\u001b[K\rremote: Compressing objects:  52% (216/414)\u001b[K\rremote: Compressing objects:  53% (220/414)\u001b[K\rremote: Compressing objects:  54% (224/414)\u001b[K\rremote: Compressing objects:  55% (228/414)\u001b[K\rremote: Compressing objects:  56% (232/414)\u001b[K\rremote: Compressing objects:  57% (236/414)\u001b[K\rremote: Compressing objects:  58% (241/414)\u001b[K\rremote: Compressing objects:  59% (245/414)\u001b[K\rremote: Compressing objects:  60% (249/414)\u001b[K\rremote: Compressing objects:  61% (253/414)\u001b[K\rremote: Compressing objects:  62% (257/414)\u001b[K\rremote: Compressing objects:  63% (261/414)\u001b[K\rremote: Compressing objects:  64% (265/414)\u001b[K\rremote: Compressing objects:  65% (270/414)\u001b[K\rremote: Compressing objects:  66% (274/414)\u001b[K\rremote: Compressing objects:  67% (278/414)\u001b[K\rremote: Compressing objects:  68% (282/414)\u001b[K\rremote: Compressing objects:  69% (286/414)\u001b[K\rremote: Compressing objects:  70% (290/414)\u001b[K\rremote: Compressing objects:  71% (294/414)\u001b[K\rremote: Compressing objects:  72% (299/414)\u001b[K\rremote: Compressing objects:  73% (303/414)\u001b[K\rremote: Compressing objects:  74% (307/414)\u001b[K\rremote: Compressing objects:  75% (311/414)\u001b[K\rremote: Compressing objects:  76% (315/414)\u001b[K\rremote: Compressing objects:  77% (319/414)\u001b[K\rremote: Compressing objects:  78% (323/414)\u001b[K\rremote: Compressing objects:  79% (328/414)\u001b[K\rremote: Compressing objects:  80% (332/414)\u001b[K\rremote: Compressing objects:  81% (336/414)\u001b[K\rremote: Compressing objects:  82% (340/414)\u001b[K\rremote: Compressing objects:  83% (344/414)\u001b[K\rremote: Compressing objects:  84% (348/414)\u001b[K\rremote: Compressing objects:  85% (352/414)\u001b[K\rremote: Compressing objects:  86% (357/414)\u001b[K\rremote: Compressing objects:  87% (361/414)\u001b[K\rremote: Compressing objects:  88% (365/414)\u001b[K\rremote: Compressing objects:  89% (369/414)\u001b[K\rremote: Compressing objects:  90% (373/414)\u001b[K\rremote: Compressing objects:  91% (377/414)\u001b[K\rremote: Compressing objects:  92% (381/414)\u001b[K\rremote: Compressing objects:  93% (386/414)\u001b[K\rremote: Compressing objects:  94% (390/414)\u001b[K\rremote: Compressing objects:  95% (394/414)\u001b[K\rremote: Compressing objects:  96% (398/414)\u001b[K\rremote: Compressing objects:  97% (402/414)\u001b[K\rremote: Compressing objects:  98% (406/414)\u001b[K\rremote: Compressing objects:  99% (410/414)\u001b[K\rremote: Compressing objects: 100% (414/414)\u001b[K\rremote: Compressing objects: 100% (414/414), done.\u001b[K\n",
            "Receiving objects:   0% (1/1275)   \rReceiving objects:   1% (13/1275)   \rReceiving objects:   2% (26/1275)   \rReceiving objects:   3% (39/1275)   \rReceiving objects:   4% (51/1275)   \rReceiving objects:   5% (64/1275)   \rReceiving objects:   6% (77/1275)   \rReceiving objects:   7% (90/1275)   \rReceiving objects:   8% (102/1275)   \rReceiving objects:   9% (115/1275)   \rReceiving objects:  10% (128/1275)   \rReceiving objects:  11% (141/1275)   \rReceiving objects:  12% (153/1275)   \rReceiving objects:  13% (166/1275)   \rReceiving objects:  14% (179/1275)   \rReceiving objects:  15% (192/1275)   \rReceiving objects:  16% (204/1275)   \rReceiving objects:  17% (217/1275)   \rReceiving objects:  18% (230/1275)   \rReceiving objects:  19% (243/1275)   \rReceiving objects:  20% (255/1275)   \rReceiving objects:  21% (268/1275)   \rReceiving objects:  22% (281/1275)   \rReceiving objects:  23% (294/1275)   \rReceiving objects:  24% (306/1275)   \rReceiving objects:  25% (319/1275)   \rReceiving objects:  26% (332/1275)   \rReceiving objects:  27% (345/1275)   \rReceiving objects:  28% (357/1275)   \rReceiving objects:  29% (370/1275)   \rReceiving objects:  30% (383/1275)   \rReceiving objects:  31% (396/1275)   \rReceiving objects:  32% (408/1275)   \rReceiving objects:  33% (421/1275)   \rReceiving objects:  34% (434/1275)   \rReceiving objects:  35% (447/1275)   \rReceiving objects:  36% (459/1275)   \rReceiving objects:  37% (472/1275)   \rReceiving objects:  38% (485/1275)   \rReceiving objects:  39% (498/1275)   \rReceiving objects:  40% (510/1275)   \rReceiving objects:  41% (523/1275)   \rReceiving objects:  42% (536/1275)   \rReceiving objects:  43% (549/1275)   \rReceiving objects:  44% (561/1275)   \rReceiving objects:  45% (574/1275)   \rReceiving objects:  46% (587/1275)   \rReceiving objects:  47% (600/1275)   \rReceiving objects:  48% (612/1275)   \rReceiving objects:  49% (625/1275)   \rReceiving objects:  50% (638/1275)   \rReceiving objects:  51% (651/1275)   \rReceiving objects:  52% (663/1275)   \rReceiving objects:  53% (676/1275)   \rReceiving objects:  54% (689/1275)   \rReceiving objects:  55% (702/1275)   \rReceiving objects:  56% (714/1275)   \rReceiving objects:  57% (727/1275)   \rReceiving objects:  58% (740/1275)   \rReceiving objects:  59% (753/1275)   \rReceiving objects:  60% (765/1275)   \rReceiving objects:  61% (778/1275)   \rReceiving objects:  62% (791/1275)   \rReceiving objects:  63% (804/1275)   \rReceiving objects:  64% (816/1275)   \rReceiving objects:  65% (829/1275)   \rReceiving objects:  66% (842/1275)   \rReceiving objects:  67% (855/1275)   \rReceiving objects:  68% (867/1275)   \rReceiving objects:  69% (880/1275)   \rReceiving objects:  70% (893/1275)   \rReceiving objects:  71% (906/1275)   \rReceiving objects:  72% (918/1275)   \rReceiving objects:  73% (931/1275)   \rReceiving objects:  74% (944/1275)   \rReceiving objects:  75% (957/1275)   \rReceiving objects:  76% (969/1275)   \rReceiving objects:  77% (982/1275)   \rReceiving objects:  78% (995/1275)   \rReceiving objects:  79% (1008/1275)   \rReceiving objects:  80% (1020/1275)   \rReceiving objects:  81% (1033/1275)   \rReceiving objects:  82% (1046/1275)   \rremote: Total 1275 (delta 853), reused 1268 (delta 850), pack-reused 0\u001b[K\n",
            "Receiving objects:  83% (1059/1275)   \rReceiving objects:  84% (1071/1275)   \rReceiving objects:  85% (1084/1275)   \rReceiving objects:  86% (1097/1275)   \rReceiving objects:  87% (1110/1275)   \rReceiving objects:  88% (1122/1275)   \rReceiving objects:  89% (1135/1275)   \rReceiving objects:  90% (1148/1275)   \rReceiving objects:  91% (1161/1275)   \rReceiving objects:  92% (1173/1275)   \rReceiving objects:  93% (1186/1275)   \rReceiving objects:  94% (1199/1275)   \rReceiving objects:  95% (1212/1275)   \rReceiving objects:  96% (1224/1275)   \rReceiving objects:  97% (1237/1275)   \rReceiving objects:  98% (1250/1275)   \rReceiving objects:  99% (1263/1275)   \rReceiving objects: 100% (1275/1275)   \rReceiving objects: 100% (1275/1275), 5.66 MiB | 22.38 MiB/s, done.\n",
            "Resolving deltas:   0% (0/853)   \rResolving deltas:  10% (91/853)   \rResolving deltas:  11% (97/853)   \rResolving deltas:  12% (104/853)   \rResolving deltas:  17% (150/853)   \rResolving deltas:  19% (165/853)   \rResolving deltas:  20% (174/853)   \rResolving deltas:  24% (207/853)   \rResolving deltas:  25% (221/853)   \rResolving deltas:  26% (224/853)   \rResolving deltas:  28% (247/853)   \rResolving deltas:  36% (312/853)   \rResolving deltas:  41% (355/853)   \rResolving deltas:  42% (360/853)   \rResolving deltas:  43% (369/853)   \rResolving deltas:  49% (420/853)   \rResolving deltas:  51% (438/853)   \rResolving deltas:  52% (451/853)   \rResolving deltas:  53% (456/853)   \rResolving deltas:  54% (462/853)   \rResolving deltas:  56% (479/853)   \rResolving deltas:  64% (546/853)   \rResolving deltas:  65% (559/853)   \rResolving deltas:  77% (660/853)   \rResolving deltas:  78% (667/853)   \rResolving deltas:  81% (697/853)   \rResolving deltas:  83% (711/853)   \rResolving deltas:  84% (721/853)   \rResolving deltas:  86% (739/853)   \rResolving deltas:  87% (743/853)   \rResolving deltas:  89% (767/853)   \rResolving deltas:  90% (774/853)   \rResolving deltas:  91% (780/853)   \rResolving deltas:  92% (791/853)   \rResolving deltas:  93% (794/853)   \rResolving deltas:  94% (807/853)   \rResolving deltas:  95% (815/853)   \rResolving deltas:  97% (834/853)   \rResolving deltas:  98% (836/853)   \rResolving deltas: 100% (853/853)   \rResolving deltas: 100% (853/853), done.\n"
          ],
          "name": "stdout"
        }
      ]
    },
    {
      "cell_type": "code",
      "metadata": {
        "id": "I8fTBhOEUM_c",
        "colab_type": "code",
        "colab": {
          "base_uri": "https://localhost:8080/",
          "height": 34
        },
        "outputId": "380e88ba-bdf1-4d21-8462-1d734d69df95"
      },
      "source": [
        "cd avatar"
      ],
      "execution_count": 5,
      "outputs": [
        {
          "output_type": "stream",
          "text": [
            "/content/avatar\n"
          ],
          "name": "stdout"
        }
      ]
    },
    {
      "cell_type": "code",
      "metadata": {
        "id": "FONInDgZUmcZ",
        "colab_type": "code",
        "colab": {
          "base_uri": "https://localhost:8080/",
          "height": 726
        },
        "outputId": "ab657881-e821-4781-f4ba-c91988f85bf3"
      },
      "source": [
        "!git clone https://github.com/alievk/first-order-model.git fomm\n",
        "!pip install face-alignment==1.0.0 msgpack_numpy pyyaml==5.1"
      ],
      "execution_count": 6,
      "outputs": [
        {
          "output_type": "stream",
          "text": [
            "Cloning into 'fomm'...\n",
            "remote: Enumerating objects: 211, done.\u001b[K\n",
            "remote: Total 211 (delta 0), reused 0 (delta 0), pack-reused 211\u001b[K\n",
            "Receiving objects: 100% (211/211), 58.16 MiB | 27.64 MiB/s, done.\n",
            "Resolving deltas: 100% (108/108), done.\n",
            "Collecting face-alignment==1.0.0\n",
            "  Downloading https://files.pythonhosted.org/packages/20/86/26baa3888c254c9ce284702a1041cf9a533ad91c873b06f74d3cfa23aff7/face_alignment-1.0.0-py2.py3-none-any.whl\n",
            "Collecting msgpack_numpy\n",
            "  Downloading https://files.pythonhosted.org/packages/46/96/5c56e589ac85b09ca08a9799e90244f9e08602c62915cba9e2abdfce73f7/msgpack_numpy-0.4.6.post0-py2.py3-none-any.whl\n",
            "Collecting pyyaml==5.1\n",
            "\u001b[?25l  Downloading https://files.pythonhosted.org/packages/9f/2c/9417b5c774792634834e730932745bc09a7d36754ca00acf1ccd1ac2594d/PyYAML-5.1.tar.gz (274kB)\n",
            "\u001b[K     |████████████████████████████████| 276kB 4.3MB/s \n",
            "\u001b[?25hRequirement already satisfied: numpy in /usr/local/lib/python3.6/dist-packages (from face-alignment==1.0.0) (1.18.5)\n",
            "Requirement already satisfied: tqdm in /usr/local/lib/python3.6/dist-packages (from face-alignment==1.0.0) (4.41.1)\n",
            "Requirement already satisfied: opencv-python in /usr/local/lib/python3.6/dist-packages (from face-alignment==1.0.0) (4.1.2.30)\n",
            "Requirement already satisfied: scipy>=0.17 in /usr/local/lib/python3.6/dist-packages (from face-alignment==1.0.0) (1.4.1)\n",
            "Requirement already satisfied: scikit-image in /usr/local/lib/python3.6/dist-packages (from face-alignment==1.0.0) (0.16.2)\n",
            "Requirement already satisfied: torch in /usr/local/lib/python3.6/dist-packages (from face-alignment==1.0.0) (1.5.1+cu101)\n",
            "Requirement already satisfied: msgpack>=0.5.2 in /usr/local/lib/python3.6/dist-packages (from msgpack_numpy) (1.0.0)\n",
            "Requirement already satisfied: pillow>=4.3.0 in /usr/local/lib/python3.6/dist-packages (from scikit-image->face-alignment==1.0.0) (7.0.0)\n",
            "Requirement already satisfied: imageio>=2.3.0 in /usr/local/lib/python3.6/dist-packages (from scikit-image->face-alignment==1.0.0) (2.4.1)\n",
            "Requirement already satisfied: matplotlib!=3.0.0,>=2.0.0 in /usr/local/lib/python3.6/dist-packages (from scikit-image->face-alignment==1.0.0) (3.2.2)\n",
            "Requirement already satisfied: PyWavelets>=0.4.0 in /usr/local/lib/python3.6/dist-packages (from scikit-image->face-alignment==1.0.0) (1.1.1)\n",
            "Requirement already satisfied: networkx>=2.0 in /usr/local/lib/python3.6/dist-packages (from scikit-image->face-alignment==1.0.0) (2.4)\n",
            "Requirement already satisfied: future in /usr/local/lib/python3.6/dist-packages (from torch->face-alignment==1.0.0) (0.16.0)\n",
            "Requirement already satisfied: pyparsing!=2.0.4,!=2.1.2,!=2.1.6,>=2.0.1 in /usr/local/lib/python3.6/dist-packages (from matplotlib!=3.0.0,>=2.0.0->scikit-image->face-alignment==1.0.0) (2.4.7)\n",
            "Requirement already satisfied: python-dateutil>=2.1 in /usr/local/lib/python3.6/dist-packages (from matplotlib!=3.0.0,>=2.0.0->scikit-image->face-alignment==1.0.0) (2.8.1)\n",
            "Requirement already satisfied: cycler>=0.10 in /usr/local/lib/python3.6/dist-packages (from matplotlib!=3.0.0,>=2.0.0->scikit-image->face-alignment==1.0.0) (0.10.0)\n",
            "Requirement already satisfied: kiwisolver>=1.0.1 in /usr/local/lib/python3.6/dist-packages (from matplotlib!=3.0.0,>=2.0.0->scikit-image->face-alignment==1.0.0) (1.2.0)\n",
            "Requirement already satisfied: decorator>=4.3.0 in /usr/local/lib/python3.6/dist-packages (from networkx>=2.0->scikit-image->face-alignment==1.0.0) (4.4.2)\n",
            "Requirement already satisfied: six>=1.5 in /usr/local/lib/python3.6/dist-packages (from python-dateutil>=2.1->matplotlib!=3.0.0,>=2.0.0->scikit-image->face-alignment==1.0.0) (1.12.0)\n",
            "Building wheels for collected packages: pyyaml\n",
            "  Building wheel for pyyaml (setup.py) ... \u001b[?25l\u001b[?25hdone\n",
            "  Created wheel for pyyaml: filename=PyYAML-5.1-cp36-cp36m-linux_x86_64.whl size=44074 sha256=cd367a4a7733d37a420c12b0a3f4a5448e836f0fffbb4948b931bf8610e10146\n",
            "  Stored in directory: /root/.cache/pip/wheels/ad/56/bc/1522f864feb2a358ea6f1a92b4798d69ac783a28e80567a18b\n",
            "Successfully built pyyaml\n",
            "Installing collected packages: face-alignment, msgpack-numpy, pyyaml\n",
            "  Found existing installation: PyYAML 3.13\n",
            "    Uninstalling PyYAML-3.13:\n",
            "      Successfully uninstalled PyYAML-3.13\n",
            "Successfully installed face-alignment-1.0.0 msgpack-numpy-0.4.6.post0 pyyaml-5.1\n"
          ],
          "name": "stdout"
        }
      ]
    },
    {
      "cell_type": "code",
      "metadata": {
        "id": "hPgXoqE_gAyD",
        "colab_type": "code",
        "colab": {
          "base_uri": "https://localhost:8080/",
          "height": 101
        },
        "outputId": "66656f31-006f-452c-8923-41949427a30f"
      },
      "source": [
        "!scripts/download_data.sh"
      ],
      "execution_count": 7,
      "outputs": [
        {
          "output_type": "stream",
          "text": [
            "  % Total    % Received % Xferd  Average Speed   Time    Time     Time  Current\n",
            "                                 Dload  Upload   Total   Spent    Left  Speed\n",
            "100  228M  100  228M    0     0  69.3M      0  0:00:03  0:00:03 --:--:-- 69.3M\n",
            "Expected checksum: 8a45a24037871c045fbb8a6a8aa95ebc\n",
            "Found checksum:    8a45a24037871c045fbb8a6a8aa95ebc  vox-adv-cpk.pth.tar\n"
          ],
          "name": "stdout"
        }
      ]
    },
    {
      "cell_type": "markdown",
      "metadata": {
        "id": "j1soT4zEEFzp",
        "colab_type": "text"
      },
      "source": [
        "### ngrok\n",
        "Follow the steps below to setup ngrok. You will also need to sign up on the ngrok site and get your authtoken (free).\n"
      ]
    },
    {
      "cell_type": "code",
      "metadata": {
        "id": "bbptNwHL1s61",
        "colab_type": "code",
        "colab": {}
      },
      "source": [
        "# Download ngrok\n",
        "\n",
        "!/content/avatar/scripts/get_ngrok.sh"
      ],
      "execution_count": 20,
      "outputs": []
    },
    {
      "cell_type": "markdown",
      "metadata": {
        "id": "4qk1FCeeaviZ",
        "colab_type": "text"
      },
      "source": [
        "# Run\n",
        "Start here if the runtime was restarted after installation."
      ]
    },
    {
      "cell_type": "code",
      "metadata": {
        "id": "_f2iYcQVI2ss",
        "colab_type": "code",
        "colab": {
          "base_uri": "https://localhost:8080/",
          "height": 34
        },
        "outputId": "450938e4-7f41-4ee8-ec39-e6e9fb30fe9f"
      },
      "source": [
        "cd /content/avatar"
      ],
      "execution_count": 22,
      "outputs": [
        {
          "output_type": "stream",
          "text": [
            "/content/avatar\n"
          ],
          "name": "stdout"
        }
      ]
    },
    {
      "cell_type": "code",
      "metadata": {
        "id": "qxK_ZZjPz_Rr",
        "colab_type": "code",
        "colab": {}
      },
      "source": [
        "#!git pull origin"
      ],
      "execution_count": 23,
      "outputs": []
    },
    {
      "cell_type": "code",
      "metadata": {
        "id": "MA-h22jF6-ks",
        "colab_type": "code",
        "colab": {}
      },
      "source": [
        "from subprocess import Popen, PIPE\n",
        "import shlex\n",
        "import json\n",
        "import time\n",
        "\n",
        "\n",
        "def run_with_pipe(command):\n",
        "  commands = list(map(shlex.split,command.split(\"|\")))\n",
        "  ps = Popen(commands[0], stdout=PIPE, stderr=PIPE)\n",
        "  for command in commands[1:]:\n",
        "    ps = Popen(command, stdin=ps.stdout, stdout=PIPE, stderr=PIPE)\n",
        "  return ps.stdout.readlines()\n",
        "\n",
        "\n",
        "def get_tunnel_adresses():\n",
        "  info = run_with_pipe(\"curl http://localhost:4040/api/tunnels\")\n",
        "  assert info\n",
        "\n",
        "  info = json.loads(info[0])\n",
        "  for tunnel in info['tunnels']:\n",
        "    url = tunnel['public_url']\n",
        "    port = url.split(':')[-1]\n",
        "    local_port = tunnel['config']['addr'].split(':')[-1]\n",
        "    print(f'{url} -> {local_port} [{tunnel[\"name\"]}]')\n",
        "    if tunnel['name'] == 'input':\n",
        "      in_addr = url\n",
        "    elif tunnel['name'] == 'output':\n",
        "      out_addr = url\n",
        "    else:\n",
        "      print(f'unknown tunnel: {tunnel[\"name\"]}')\n",
        "\n",
        "  return in_addr, out_addr"
      ],
      "execution_count": 24,
      "outputs": []
    },
    {
      "cell_type": "code",
      "metadata": {
        "id": "RfHa02CBWoNN",
        "colab_type": "code",
        "colab": {}
      },
      "source": [
        "# Input and output ports for communication\n",
        "local_in_port = 5557\n",
        "local_out_port = 5558"
      ],
      "execution_count": 25,
      "outputs": []
    },
    {
      "cell_type": "markdown",
      "metadata": {
        "id": "BcULGnhGJJjC",
        "colab_type": "text"
      },
      "source": [
        "# Start the worker\n"
      ]
    },
    {
      "cell_type": "code",
      "metadata": {
        "id": "8PnArK75mRqx",
        "colab_type": "code",
        "colab": {}
      },
      "source": [
        "# (Re)Start the worker\n",
        "with open('/tmp/run.txt', 'w') as f:\n",
        "  ps = Popen(\n",
        "      shlex.split(f'./run.sh --is-worker --in-port {local_in_port} --out-port {local_out_port} --no-vcam --no-conda'),\n",
        "      stdout=f, stderr=f)\n",
        "  time.sleep(3)"
      ],
      "execution_count": 26,
      "outputs": []
    },
    {
      "cell_type": "markdown",
      "metadata": {
        "id": "XfUqQxMtRSvc",
        "colab_type": "text"
      },
      "source": [
        "This command should print lines if the worker is successfully started"
      ]
    },
    {
      "cell_type": "code",
      "metadata": {
        "id": "W0eY8gkBqUJG",
        "colab_type": "code",
        "colab": {
          "base_uri": "https://localhost:8080/",
          "height": 121
        },
        "outputId": "01b14b0b-4467-43dd-c1ad-f5b4a4f247dc"
      },
      "source": [
        "!ps aux | grep 'python3 afy/cam_fomm.py' | grep -v grep | tee /tmp/ps_run\n",
        "!if [[ $(cat /tmp/ps_run | wc -l) == \"0\" ]]; then echo \"Worker failed to start\"; cat /tmp/run.txt; else echo \"Worker started\"; fi"
      ],
      "execution_count": 27,
      "outputs": [
        {
          "output_type": "stream",
          "text": [
            "root         340 37.5  2.1 2065168 282456 ?      S    08:40   0:02 python3 afy/cam_fomm.py --config fomm/config/vox-adv-256.yaml --checkpoint vox-adv-cpk.pth.tar --virt-cam 9 --relative --adapt_scale --is-worker --in-port 5557 --out-port 5558 --no-stream\n",
            "root         355  0.0  1.1 2073364 152444 ?      Sl   08:40   0:00 python3 afy/cam_fomm.py --config fomm/config/vox-adv-256.yaml --checkpoint vox-adv-cpk.pth.tar --virt-cam 9 --relative --adapt_scale --is-worker --in-port 5557 --out-port 5558 --no-stream\n",
            "root         358  0.0  1.1 2065168 149876 ?      S    08:40   0:00 python3 afy/cam_fomm.py --config fomm/config/vox-adv-256.yaml --checkpoint vox-adv-cpk.pth.tar --virt-cam 9 --relative --adapt_scale --is-worker --in-port 5557 --out-port 5558 --no-stream\n",
            "root         359  0.0  1.1 2073364 152440 ?      Sl   08:40   0:00 python3 afy/cam_fomm.py --config fomm/config/vox-adv-256.yaml --checkpoint vox-adv-cpk.pth.tar --virt-cam 9 --relative --adapt_scale --is-worker --in-port 5557 --out-port 5558 --no-stream\n",
            "Worker started\n"
          ],
          "name": "stdout"
        }
      ]
    },
    {
      "cell_type": "markdown",
      "metadata": {
        "id": "tz9gpLD0IsCL",
        "colab_type": "text"
      },
      "source": [
        "# Open ngrok tunnel"
      ]
    },
    {
      "cell_type": "markdown",
      "metadata": {
        "id": "gyB7XIxL0XpD",
        "colab_type": "text"
      },
      "source": [
        "#### Get ngrok token\n",
        "Go to https://dashboard.ngrok.com/auth/your-authtoken (sign up if required), copy your authtoken and put it below."
      ]
    },
    {
      "cell_type": "code",
      "metadata": {
        "id": "YDtPpi77AkQ1",
        "colab_type": "code",
        "colab": {}
      },
      "source": [
        "# Paste your authtoken here in quotes\n",
        "authtoken = \"YOUR AUTH TOKEN HERE\""
      ],
      "execution_count": 28,
      "outputs": []
    },
    {
      "cell_type": "markdown",
      "metadata": {
        "id": "gASaDrsFXLXA",
        "colab_type": "text"
      },
      "source": [
        "Set your region\n",
        "\n",
        "Code | Region\n",
        "--- | ---\n",
        "us | United States\n",
        "eu | Europe\n",
        "ap | Asia/Pacific\n",
        "au | Australia\n",
        "sa | South America\n",
        "jp | Japan\n",
        "in | India"
      ]
    },
    {
      "cell_type": "code",
      "metadata": {
        "id": "r5e9VR9NYckJ",
        "colab_type": "code",
        "colab": {}
      },
      "source": [
        "# Set your region here in quotes\n",
        "region = \"us\""
      ],
      "execution_count": 29,
      "outputs": []
    },
    {
      "cell_type": "code",
      "metadata": {
        "id": "jZ5_PE_EHpCg",
        "colab_type": "code",
        "colab": {}
      },
      "source": [
        "config =\\\n",
        "f\"\"\"\n",
        "authtoken: {authtoken}\n",
        "region: {region}\n",
        "console_ui: False\n",
        "tunnels:\n",
        "  input:\n",
        "    addr: {local_in_port}\n",
        "    proto: tcp    \n",
        "  output:\n",
        "    addr: {local_out_port}\n",
        "    proto: tcp\n",
        "\"\"\"\n",
        "\n",
        "with open('ngrok.conf', 'w') as f:\n",
        "  f.write(config)"
      ],
      "execution_count": 30,
      "outputs": []
    },
    {
      "cell_type": "code",
      "metadata": {
        "id": "Z49OEhAdDI7Y",
        "colab_type": "code",
        "colab": {}
      },
      "source": [
        "# (Re)Open tunnel\n",
        "ps = Popen('./scripts/open_tunnel_ngrok.sh', stdout=PIPE, stderr=PIPE)\n",
        "time.sleep(3)"
      ],
      "execution_count": 31,
      "outputs": []
    },
    {
      "cell_type": "code",
      "metadata": {
        "id": "JAyPH2t2C64H",
        "colab_type": "code",
        "colab": {
          "base_uri": "https://localhost:8080/",
          "height": 67
        },
        "outputId": "a105971d-2772-4815-b106-6d361aa928b1"
      },
      "source": [
        "# Get tunnel addresses\n",
        "try:\n",
        "  in_addr, out_addr = get_tunnel_adresses()\n",
        "  print(\"Tunnel opened\")\n",
        "except Exception as e:\n",
        "  [print(l.decode(), end='') for l in ps.stdout.readlines()]\n",
        "  print(\"Something went wrong, reopen the tunnel\")"
      ],
      "execution_count": 32,
      "outputs": [
        {
          "output_type": "stream",
          "text": [
            "tcp://2.tcp.ngrok.io:15938 -> 5557 [input]\n",
            "tcp://2.tcp.ngrok.io:11705 -> 5558 [output]\n",
            "Tunnel opened\n"
          ],
          "name": "stdout"
        }
      ]
    },
    {
      "cell_type": "code",
      "metadata": {
        "id": "zdN5Qj2BCYsr",
        "colab_type": "code",
        "colab": {}
      },
      "source": [
        "# Open reverse ssh tunnel (uncomment line below)\n",
        "# !./scripts/open_tunnel_ssh.sh key_pair.pem ubuntu@instance.compute.amazonaws.com"
      ],
      "execution_count": 33,
      "outputs": []
    },
    {
      "cell_type": "markdown",
      "metadata": {
        "id": "ccZ24BT4Jdis",
        "colab_type": "text"
      },
      "source": [
        "# Start the client\n",
        "When you run the cell below it will print a command. Run this command on your computer:\n",
        "\n",
        "1. Open a terminal (in Windows open `Anaconda Prompt`);\n",
        "2. Change working directory to the `avatarify` or `avatar-master` directory:</br>\n",
        "* Windows (change `C:\\path\\to\\avatarify` or `C:\\path\\to\\avatar-master` to your path)</br>\n",
        "`cd C:\\path\\to\\avatar-master`</br></br>\n",
        "\n",
        "3. Copy-paste to the terminal the command below and run;\n",
        "4. It can take some time to connect (usually up to 10 seconds). If the preview window doesn't appear in a minute or two, look for the errors above in this notebook and report in the [issues](https://github.com/alievk/avatarify/issues) or [Slack](https://join.slack.com/t/avatarify/shared_invite/zt-dyoqy8tc-~4U2ObQ6WoxuwSaWKKVOgg)."
      ]
    },
    {
      "cell_type": "code",
      "metadata": {
        "id": "4gaqS0mZWF1V",
        "colab_type": "code",
        "colab": {
          "base_uri": "https://localhost:8080/",
          "height": 185
        },
        "outputId": "866fbe9c-69d3-4adc-e7d3-2f3fddc87117"
      },
      "source": [
        "print('Copy-paste to the terminal the command below and run (press Enter)\\n')\n",
        "print('Mac:')\n",
        "print(f'./run_mac.sh --is-client --in-addr {in_addr} --out-addr {out_addr}')\n",
        "print('\\nWindows:')\n",
        "print(f'run_windows.bat --is-client --in-addr {in_addr} --out-addr {out_addr}')\n",
        "print('\\nLinux:')\n",
        "print(f'./run.sh --is-client --in-addr {in_addr} --out-addr {out_addr}')"
      ],
      "execution_count": 34,
      "outputs": [
        {
          "output_type": "stream",
          "text": [
            "Copy-paste to the terminal the command below and run (press Enter)\n",
            "\n",
            "Mac:\n",
            "./run_mac.sh --is-client --in-addr tcp://2.tcp.ngrok.io:15938 --out-addr tcp://2.tcp.ngrok.io:11705\n",
            "\n",
            "Windows:\n",
            "run_windows.bat --is-client --in-addr tcp://2.tcp.ngrok.io:15938 --out-addr tcp://2.tcp.ngrok.io:11705\n",
            "\n",
            "Linux:\n",
            "./run.sh --is-client --in-addr tcp://2.tcp.ngrok.io:15938 --out-addr tcp://2.tcp.ngrok.io:11705\n"
          ],
          "name": "stdout"
        }
      ]
    },
    {
      "cell_type": "markdown",
      "metadata": {
        "id": "CwfgG7XBSmrT",
        "colab_type": "text"
      },
      "source": [
        "#After executing the commmand line in anaconda Prompt at the Avatarify directory, you can change between avatars using keys (1-9)"
      ]
    },
    {
      "cell_type": "markdown",
      "metadata": {
        "id": "M3h92xQ9KA-R",
        "colab_type": "text"
      },
      "source": [
        "# Logs"
      ]
    },
    {
      "cell_type": "markdown",
      "metadata": {
        "id": "SvodbjapKBQi",
        "colab_type": "text"
      },
      "source": [
        "If something doesn't work as expected, please run the cells below and include the logs in your report."
      ]
    },
    {
      "cell_type": "code",
      "metadata": {
        "id": "0GeT7KxON0Ke",
        "colab_type": "code",
        "cellView": "form",
        "colab": {
          "base_uri": "https://localhost:8080/",
          "height": 34
        },
        "outputId": "4d95c7d4-b6d6-4a49-d62d-cbfc3ec4aec3"
      },
      "source": [
        "#@title\n",
        "!cat ./var/log/cam_fomm.log | head -100"
      ],
      "execution_count": 35,
      "outputs": [
        {
          "output_type": "stream",
          "text": [
            "[1594543253.563415] Loading Predictor\n"
          ],
          "name": "stdout"
        }
      ]
    },
    {
      "cell_type": "code",
      "metadata": {
        "id": "P1FQcdzwqdce",
        "colab_type": "code",
        "cellView": "form",
        "colab": {
          "base_uri": "https://localhost:8080/",
          "height": 34
        },
        "outputId": "ec435764-3bbe-426e-e6e8-cc1d74cad1c9"
      },
      "source": [
        "#@title\n",
        "!cat ./var/log/recv_worker.log | tail -100"
      ],
      "execution_count": 36,
      "outputs": [
        {
          "output_type": "stream",
          "text": [
            "[1594543255.413245] Receiving on port 5557\n"
          ],
          "name": "stdout"
        }
      ]
    },
    {
      "cell_type": "code",
      "metadata": {
        "id": "YThWBXCf_yzI",
        "colab_type": "code",
        "cellView": "form",
        "colab": {}
      },
      "source": [
        "#@title\n",
        "!cat ./var/log/predictor_worker.log | tail -100"
      ],
      "execution_count": 37,
      "outputs": []
    },
    {
      "cell_type": "code",
      "metadata": {
        "id": "zhJzygCP_6p3",
        "colab_type": "code",
        "cellView": "form",
        "colab": {
          "base_uri": "https://localhost:8080/",
          "height": 34
        },
        "outputId": "8bbd780a-03d7-404c-bbe0-a475375dabe0"
      },
      "source": [
        "#@title\n",
        "!cat ./var/log/send_worker.log | tail -100"
      ],
      "execution_count": 38,
      "outputs": [
        {
          "output_type": "stream",
          "text": [
            "[1594543255.419916] Sending on port 5558\n"
          ],
          "name": "stdout"
        }
      ]
    },
    {
      "cell_type": "code",
      "metadata": {
        "id": "nrzNffhR_8HQ",
        "colab_type": "code",
        "colab": {}
      },
      "source": [
        ""
      ],
      "execution_count": null,
      "outputs": []
    }
  ]
}